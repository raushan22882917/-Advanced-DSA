{
 "cells": [
  {
   "cell_type": "code",
   "execution_count": 14,
   "metadata": {},
   "outputs": [],
   "source": [
    "import copy"
   ]
  },
  {
   "cell_type": "code",
   "execution_count": 15,
   "metadata": {},
   "outputs": [],
   "source": [
    "def left_to_right_maximal_points(points):\n",
    "    '''\n",
    "    Returns the list of maximal points in an array and also tells the count of iterations.\n",
    "\n",
    "    It uses the left-to-right sweeping algorithm and requires a candidate list in addition.\n",
    "\n",
    "    Parameter_points: List of all the points to be processed\n",
    "    Precondition: Type of point should be a list containing the tuple.\n",
    "    '''\n",
    "    global comparisons_count\n",
    "    comparisons_count = 0\n",
    "\n",
    "    points_sorted = sorted(points, key=lambda p: (p[0], p[1]))\n",
    "    maximal_points_list = [points_sorted[0]]\n",
    "\n",
    "    for point in points_sorted:\n",
    "        candidate_copy = copy.deepcopy(maximal_points_list)\n",
    "        for candidate_point in candidate_copy:\n",
    "            comparisons_count += 1\n",
    "            if candidate_point[1] <= point[1]:\n",
    "                maximal_points_list.remove(candidate_point)\n",
    "        maximal_points_list.append(point)\n",
    "\n",
    "    return \"Maximal Points (Left to Right):\", maximal_points_list, \"Number of comparisons:\", comparisons_count\n"
   ]
  },
  {
   "cell_type": "code",
   "execution_count": 16,
   "metadata": {},
   "outputs": [],
   "source": [
    "def right_to_left_maximal_points(points):\n",
    "    '''\n",
    "    Returns the list of maximal points in an array and also tells the count of iterations.\n",
    "\n",
    "    It uses the right-to-left sweeping algorithm and does not require any candidate list.\n",
    "\n",
    "    Parameter_points: List of all the points to be processed\n",
    "    Precondition: Type of point should be a list containing the tuple.\n",
    "    '''\n",
    "    global comparisons_count\n",
    "    comparisons_count = 0\n",
    "\n",
    "    points_sorted = sorted(points, key=lambda p: (p[0], p[1]))\n",
    "    maximal_points_result = [points_sorted[-1]]\n",
    "\n",
    "    for i in range(len(points_sorted)):\n",
    "        current_point = points_sorted[len(points_sorted)-i-1]\n",
    "        comparisons_count += 1\n",
    "        if maximal_points_result[-1][1] < current_point[1]:\n",
    "            comparisons_count += 1\n",
    "            maximal_points_result.append(current_point)\n",
    "\n",
    "    return \"Maximal Points (Right to Left):\", maximal_points_result[::-1], \"Number of comparisons:\", comparisons_count\n"
   ]
  },
  {
   "cell_type": "code",
   "execution_count": 17,
   "metadata": {},
   "outputs": [],
   "source": [
    "def maximal_points_right_to_left(points):\n",
    "    '''\n",
    "    Returns the list of maximal points in an array and the count of iterations.\n",
    "    Implements the left to right sweeping algorithm using a candidate list.\n",
    "    Parameters:\n",
    "    - points (List): List of all the points to be processed. Each point is represented as a tuple.\n",
    "    Preconditions:\n",
    "    - The type of point should be a list containing a tuple.\n",
    "    '''\n",
    "    comparisons = 0\n",
    "    maximal_points = [points[-1]]\n",
    "\n",
    "    for i in range(len(points)-2, -1, -1):\n",
    "        comparisons += 1\n",
    "        if points[i][1] > maximal_points[-1][1]:\n",
    "            maximal_points.append(points[i])\n",
    "\n",
    "    maximal_points.reverse()\n",
    "    return maximal_points, comparisons"
   ]
  },
  {
   "cell_type": "code",
   "execution_count": 18,
   "metadata": {},
   "outputs": [
    {
     "name": "stdout",
     "output_type": "stream",
     "text": [
      "Input points: [(1, 3), (2, 2), (3, 1), (3, 4), (4, 3), (2, 5), (5, 2), (6, 4), (7, 1), (7, 3), (8, 6), (9, 2), (10, 4), (11, 3), (12, 5), (13, 4), (14, 1), (15, 6), (16, 3), (17, 5)]\n",
      "('Maximal Points (Left to Right):', [(15, 6), (17, 5)], 'Number of comparisons:', 44)\n",
      "('Maximal Points (Right to Left):', [(15, 6), (17, 5)], 'Number of comparisons:', 21)\n"
     ]
    }
   ],
   "source": [
    "if __name__ == \"__main__\":\n",
    "    input_points = [\n",
    "        (1, 3), (2, 2), (3, 1), (3, 4), (4, 3),\n",
    "        (2, 5), (5, 2), (6, 4), (7, 1), (7, 3),\n",
    "        (8, 6), (9, 2), (10, 4), (11, 3), (12, 5),\n",
    "        (13, 4), (14, 1), (15, 6), (16, 3), (17, 5)\n",
    "    ]\n",
    "\n",
    "    print(\"Input points:\", input_points)\n",
    "\n",
    "    l2r_result = left_to_right_maximal_points(input_points.copy())\n",
    "    print(l2r_result)\n",
    "\n",
    "    r2l_result = right_to_left_maximal_points(input_points.copy())\n",
    "    print(r2l_result)\n"
   ]
  },
  {
   "cell_type": "code",
   "execution_count": 19,
   "metadata": {},
   "outputs": [
    {
     "name": "stdout",
     "output_type": "stream",
     "text": [
      "Other input points: [(5, 12), (9, 20), (3, 8), (17, 6), (11, 14), (1, 16), (7, 18), (13, 10), (19, 4), (15, 2), (8, 19), (4, 15), (6, 13), (2, 17), (10, 11), (12, 7), (14, 5), (16, 3), (18, 1), (20, 9), (22, 15), (24, 11), (26, 7), (28, 3)]\n",
      "('Maximal Points (Left to Right):', [(9, 20), (22, 15), (24, 11), (26, 7), (28, 3)], 'Number of comparisons:', 67)\n",
      "('Maximal Points (Right to Left):', [(9, 20), (22, 15), (24, 11), (26, 7), (28, 3)], 'Number of comparisons:', 28)\n"
     ]
    }
   ],
   "source": [
    "if __name__ == \"__main__\":\n",
    "    other_input_points = [\n",
    "        (5, 12), (9, 20), (3, 8), (17, 6), (11, 14),\n",
    "        (1, 16), (7, 18), (13, 10), (19, 4), (15, 2),\n",
    "        (8, 19), (4, 15), (6, 13), (2, 17), (10, 11),\n",
    "        (12, 7), (14, 5), (16, 3), (18, 1), (20, 9),\n",
    "        (22, 15), (24, 11), (26, 7), (28, 3)\n",
    "    ]\n",
    "\n",
    "    print(\"Other input points:\", other_input_points)\n",
    "\n",
    "    l2r_result_other = left_to_right_maximal_points(other_input_points.copy())\n",
    "    print(l2r_result_other)\n",
    "\n",
    "    r2l_result_other = right_to_left_maximal_points(other_input_points.copy())\n",
    "    print(r2l_result_other)\n"
   ]
  }
 ],
 "metadata": {
  "kernelspec": {
   "display_name": "Python 3",
   "language": "python",
   "name": "python3"
  },
  "language_info": {
   "codemirror_mode": {
    "name": "ipython",
    "version": 3
   },
   "file_extension": ".py",
   "mimetype": "text/x-python",
   "name": "python",
   "nbconvert_exporter": "python",
   "pygments_lexer": "ipython3",
   "version": "3.12.1"
  }
 },
 "nbformat": 4,
 "nbformat_minor": 2
}
